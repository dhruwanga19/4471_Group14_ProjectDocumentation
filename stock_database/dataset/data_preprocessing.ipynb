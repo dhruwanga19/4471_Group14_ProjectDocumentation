{
 "cells": [
  {
   "cell_type": "code",
   "execution_count": 1,
   "metadata": {},
   "outputs": [],
   "source": [
    "import pandas as pd\n",
    "\n",
    "# define data path\n",
    "ori_path_prefix = \"original_data/\"\n",
    "modified_path_prefix = \"modified_data/\""
   ]
  },
  {
   "cell_type": "code",
   "execution_count": 2,
   "metadata": {},
   "outputs": [
    {
     "name": "stdout",
     "output_type": "stream",
     "text": [
      "Index(['id', 'name', 'company'], dtype='object')\n"
     ]
    }
   ],
   "source": [
    "# make the Stocks csv file\n",
    "stocks_data = {\n",
    "    'id': [1, 2, 3],\n",
    "    'name': ['aapl', 'intl', 'amd'],\n",
    "    'company': ['apple', 'intel', 'amd']\n",
    "}\n",
    "\n",
    "stocks_df = pd.DataFrame(stocks_data)\n",
    "print(stocks_df.columns)\n",
    "# save to stocks.csv\n",
    "stocks_df.to_csv(modified_path_prefix + 'stocks.csv', index=False)"
   ]
  },
  {
   "cell_type": "code",
   "execution_count": 3,
   "metadata": {},
   "outputs": [
    {
     "name": "stdout",
     "output_type": "stream",
     "text": [
      "Index(['id', 'name'], dtype='object')\n"
     ]
    }
   ],
   "source": [
    "# make the Exchanges csv file\n",
    "exchanges_data = {\n",
    "    'id': ['A', 'B', 'C', \\\n",
    "        'D', 'I', 'J', \\\n",
    "            'K', 'M', 'N', \\\n",
    "                'T', 'P', 'S', \\\n",
    "                    'T/Q', 'W', 'X', \\\n",
    "                        'Y', 'Z'],\n",
    "    'name': ['NYSE MKT Stock Exchange', 'NASDAQ OMX BX Stock Exchange', 'National Stock Exchange', \\\n",
    "        'FINRA', 'International Securities Exchange', 'Direct Edge A Stock Exchange', \\\n",
    "            'Direct Edge X Stock Exchange', 'Chicago Stock Exchange', 'New York Stock Exchange', \\\n",
    "                'NASDAQ OMX Stock Exchange', 'NYSE Arca SM', 'Consolidated Tape System', \\\n",
    "                    'NASDAQ Stock Exchange', 'CBOE Stock Exchange', 'NASDAQ OMX PSX Stock Exchange', \\\n",
    "                        'BATS Y-Exchange', 'BATS Exchange']\n",
    "}\n",
    "\n",
    "exchanges_df = pd.DataFrame(exchanges_data)\n",
    "print(exchanges_df.columns)\n",
    "# save to stocks.csv\n",
    "exchanges_df.to_csv(modified_path_prefix + 'exchanges.csv', index=False)"
   ]
  },
  {
   "cell_type": "code",
   "execution_count": 4,
   "metadata": {},
   "outputs": [
    {
     "name": "stdout",
     "output_type": "stream",
     "text": [
      "           15753000       3453300            100             0\n",
      "count  5.785100e+04  5.785100e+04   57851.000000  57851.000000\n",
      "mean   4.403325e+07  3.454299e+06     192.089540      0.000017\n",
      "std    8.216393e+06  1.467440e+04    2226.737093      0.004158\n",
      "min    1.586900e+07  3.444000e+05     100.000000      0.000000\n",
      "25%    3.698700e+07  3.449300e+06     100.000000      0.000000\n",
      "50%    4.158100e+07  3.455800e+06     100.000000      0.000000\n",
      "75%    5.224800e+07  3.460300e+06     104.000000      0.000000\n",
      "max    7.199800e+07  3.468000e+06  333347.000000      1.000000\n"
     ]
    }
   ],
   "source": [
    "# read aapl.csv file\n",
    "aapl_df = pd.read_csv(ori_path_prefix + \"aapl.csv\")\n",
    "aapl_des = aapl_df.describe()\n",
    "print(aapl_des)"
   ]
  },
  {
   "cell_type": "code",
   "execution_count": 5,
   "metadata": {},
   "outputs": [
    {
     "name": "stdout",
     "output_type": "stream",
     "text": [
      "Index(['15753000', '3453300', '100', '0'], dtype='object')\n",
      "1\n",
      "Index(['time_of_the_day', 'price', 'size', 'exchange_id',\n",
      "       'sale_condition_codes', 'suspicious', 'stock_id'],\n",
      "      dtype='object')\n"
     ]
    }
   ],
   "source": [
    "# the original csv file contains no column headers, add headers\n",
    "aapl_df_headers = ['time_of_the_day', 'price', 'size','exchange_id', 'sale_condition_codes', 'suspicious']\n",
    "aapl_df.columns = aapl_df_headers\n",
    "print(aapl_des.columns)\n",
    "# add stock_id column\n",
    "result = stocks_df.loc[stocks_df['name'] == 'aapl', 'id']\n",
    "if not result.empty:\n",
    "    stock_id = result.iloc[0]\n",
    "    print(stock_id)\n",
    "aapl_df['stock_id'] = stock_id\n",
    "print(aapl_df.columns)"
   ]
  },
  {
   "cell_type": "code",
   "execution_count": 6,
   "metadata": {},
   "outputs": [
    {
     "name": "stdout",
     "output_type": "stream",
     "text": [
      "Index(['transaction_id', 'time_of_the_day', 'price', 'size', 'exchange_id',\n",
      "       'sale_condition_codes', 'suspicious', 'stock_id'],\n",
      "      dtype='object')\n"
     ]
    }
   ],
   "source": [
    "# add transaction_id\n",
    "aapl_df.reset_index(inplace=True)\n",
    "aapl_df.rename(columns={'index': 'transaction_id'}, inplace=True)\n",
    "print(aapl_df.columns)"
   ]
  },
  {
   "cell_type": "code",
   "execution_count": 7,
   "metadata": {},
   "outputs": [
    {
     "name": "stdout",
     "output_type": "stream",
     "text": [
      "Index(['transaction_id', 'time_of_the_day', 'price', 'size', 'exchange_id',\n",
      "       'sale_condition_codes', 'suspicious', 'stock_id', 'day'],\n",
      "      dtype='object')\n"
     ]
    }
   ],
   "source": [
    "# add day column\n",
    "aapl_df['day'] = pd.to_datetime('2011-01-13')\n",
    "print(aapl_df.columns)"
   ]
  },
  {
   "cell_type": "code",
   "execution_count": 9,
   "metadata": {},
   "outputs": [
    {
     "name": "stdout",
     "output_type": "stream",
     "text": [
      "Index(['transaction_id', 'stock_id', 'exchange_id', 'day', 'time_of_the_day',\n",
      "       'price', 'size', 'sale_condition_codes', 'suspicious'],\n",
      "      dtype='object')\n"
     ]
    }
   ],
   "source": [
    "# rearrange and save to csv file\n",
    "aapl_df = aapl_df[['transaction_id', 'stock_id', 'exchange_id', 'day', 'time_of_the_day', 'price', 'size', 'sale_condition_codes', 'suspicious']]\n",
    "print(aapl_df.columns)\n",
    "aapl_df.to_csv(modified_path_prefix + 'transactions.csv', index=False)"
   ]
  },
  {
   "cell_type": "code",
   "execution_count": null,
   "metadata": {},
   "outputs": [],
   "source": []
  }
 ],
 "metadata": {
  "kernelspec": {
   "display_name": "jupyter",
   "language": "python",
   "name": "python3"
  },
  "language_info": {
   "codemirror_mode": {
    "name": "ipython",
    "version": 3
   },
   "file_extension": ".py",
   "mimetype": "text/x-python",
   "name": "python",
   "nbconvert_exporter": "python",
   "pygments_lexer": "ipython3",
   "version": "3.8.18"
  }
 },
 "nbformat": 4,
 "nbformat_minor": 2
}
